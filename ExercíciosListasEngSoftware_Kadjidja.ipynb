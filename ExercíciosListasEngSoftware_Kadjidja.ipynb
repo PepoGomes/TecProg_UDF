{
  "nbformat": 4,
  "nbformat_minor": 0,
  "metadata": {
    "colab": {
      "provenance": []
    },
    "kernelspec": {
      "name": "python3",
      "display_name": "Python 3"
    },
    "language_info": {
      "name": "python"
    }
  },
  "cells": [
    {
      "cell_type": "markdown",
      "source": [
        "# **Técnicas de Programação - Engenharia de Software N2**\n",
        "Nome: Pedro Henrique Caniza Gomes\n",
        "\n",
        "Data: 16/10/2025\n",
        "\n",
        "# **Listas de Exercício em Python**"
      ],
      "metadata": {
        "id": "s4og48hdRAk2"
      }
    },
    {
      "cell_type": "code",
      "source": [
        "lista1 = [10, 20, 30, 40]\n",
        "lista2 = [\"programação\", \"IFB\", \"python\"]\n",
        "lista3 = [\"oi\", 2.0, 5, [10, 20]]\n",
        "\n",
        "print(lista1)"
      ],
      "metadata": {
        "colab": {
          "base_uri": "https://localhost:8080/"
        },
        "id": "Q0MogcAhVJif",
        "outputId": "85c3942a-13fa-4b7c-e261-8fa48db969b3"
      },
      "execution_count": null,
      "outputs": [
        {
          "output_type": "stream",
          "name": "stdout",
          "text": [
            "[10, 20, 30, 40]\n"
          ]
        }
      ]
    },
    {
      "cell_type": "code",
      "source": [
        "nota1 = float(input(\"Entre com a nota 1: \"))\n",
        "nota2 = float(input(\"Entre com a nota 2: \"))\n",
        "nota3 = float(input(\"Entre com a nota 3: \"))"
      ],
      "metadata": {
        "colab": {
          "base_uri": "https://localhost:8080/"
        },
        "id": "JatvmckpVrW_",
        "outputId": "103506c4-2ced-4868-8996-493a534d0856"
      },
      "execution_count": null,
      "outputs": [
        {
          "name": "stdout",
          "output_type": "stream",
          "text": [
            "Entre com a nota 1: 5\n",
            "Entre com a nota 2: 2\n",
            "Entre com a nota 3: 5\n"
          ]
        }
      ]
    },
    {
      "cell_type": "code",
      "source": [
        "# Faça um programa que leia um número n e imprima n linhas na tela\n",
        "# com o seguinte formato (exemplo se n = 5):\n",
        "\n",
        "n = int(input(\"Digite um número: \"))\n",
        "l = []\n",
        "for i in range(1,n+1):\n",
        "  l.append(i)\n",
        "  print(l)"
      ],
      "metadata": {
        "colab": {
          "base_uri": "https://localhost:8080/"
        },
        "id": "aUAIWVT-Sff7",
        "outputId": "d279dccb-bcfb-42cd-acec-af3292dd159f"
      },
      "execution_count": null,
      "outputs": [
        {
          "output_type": "stream",
          "name": "stdout",
          "text": [
            "Digite um número: 5\n",
            "[1]\n",
            "[1, 2]\n",
            "[1, 2, 3]\n",
            "[1, 2, 3, 4]\n",
            "[1, 2, 3, 4, 5]\n"
          ]
        }
      ]
    },
    {
      "cell_type": "code",
      "execution_count": null,
      "metadata": {
        "colab": {
          "base_uri": "https://localhost:8080/"
        },
        "id": "CVdKuvE6N3xt",
        "outputId": "ed433a7c-35a9-41c8-c062-a9cc482176d4"
      },
      "outputs": [
        {
          "output_type": "stream",
          "name": "stdout",
          "text": [
            "Entre com o número de notas: 2\n",
            "Entre com a nota 0: 5\n",
            "Entre com a nota 1: 6\n",
            "[5.0, 6.0]\n",
            "5.5\n"
          ]
        }
      ],
      "source": [
        "# Mostra as n notas\n",
        "notas = []\n",
        "n = int(input(\"Entre com o número de notas: \"))\n",
        "for i in range(n):\n",
        "  dado = float(input(\"Entre com a nota \" + str(i) + \": \"))\n",
        "  notas.append(dado)\n",
        "print(notas)\n",
        "# Calcula a média\n",
        "soma = 0\n",
        "for i in range(len(notas)):\n",
        "  soma = soma + notas[i]\n",
        "media = soma/n\n",
        "print(format(media, \".1f\"))"
      ]
    },
    {
      "cell_type": "code",
      "source": [
        "# Faça um programa que:\n",
        "# ○ Lê duas listas com 5 inteiros cada.\n",
        "# ○ Checa quais elementos da segunda lista são iguais a algum elemento\n",
        "# da primeira lista.\n",
        "# ○ Se não houver elementos em comum, o programa deve informar isso.\n",
        "\n",
        "x = []\n",
        "y = []\n",
        "for i in range(5):\n",
        "  x.append(int(input()))\n",
        "print()\n",
        "for i in range(5):\n",
        "  y.append(int(input()))\n",
        "print()\n",
        "\n",
        "um_elemento_comum = False\n",
        "\n",
        "#Supomos que não temos elementos comuns\n",
        "for a in x:\n",
        "  for b in y:\n",
        "    if (a == b):\n",
        "      um_elemento_comum = True # há elemento comum\n",
        "      print(str(a))\n",
        "if not um_elemento_comum:\n",
        "  print(\"Não tem elemento comum.\")"
      ],
      "metadata": {
        "id": "_qM1ZJjhUicq"
      },
      "execution_count": null,
      "outputs": []
    }
  ]
}